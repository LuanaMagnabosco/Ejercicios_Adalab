{
 "cells": [
  {
   "cell_type": "code",
   "execution_count": 16,
   "metadata": {},
   "outputs": [],
   "source": [
    "#1. Escribe una función que reciba una cadena de texto como parámetro y devuelva un diccionario con las frecuencias de cada letra en la cadena. Los espacios no deben ser considerados. \n",
    "diccionario_1 = {}\n",
    "def texto(cadena):\n",
    "    cadena = cadena.replace(' ', '')\n",
    "    return cadena\n",
    "\n",
    "cadena = 'Python mola'"
   ]
  },
  {
   "cell_type": "code",
   "execution_count": 2,
   "metadata": {},
   "outputs": [
    {
     "name": "stdout",
     "output_type": "stream",
     "text": [
      "{'H': 1, 'o': 2, 'l': 1, 'a': 1, 'm': 1, 'u': 1, 'n': 1, 'd': 1}\n"
     ]
    }
   ],
   "source": [
    "def frecuencia_letras(cadena):\n",
    "    # Inicializar un diccionario vacío para almacenar las frecuencias de cada letra\n",
    "    frecuencias = {}\n",
    "    \n",
    "    # Eliminar los espacios en blanco de la cadena\n",
    "    cadena = cadena.replace(\" \", \"\")\n",
    "    \n",
    "    # Iterar sobre cada letra en la cadena\n",
    "    for letra in cadena:\n",
    "        # Si la letra ya está en el diccionario, incrementar su frecuencia\n",
    "        if letra in frecuencias:\n",
    "            frecuencias[letra] += 1\n",
    "        # Si la letra no está en el diccionario, agregarla con una frecuencia de 1\n",
    "        else:\n",
    "            frecuencias[letra] = 1\n",
    "    \n",
    "    # Devolver el diccionario de frecuencias\n",
    "    return frecuencias\n",
    "\n",
    "# Ejemplo de uso\n",
    "cadena = \"Hola mundo\"\n",
    "print(frecuencia_letras(cadena))\n"
   ]
  },
  {
   "cell_type": "code",
   "execution_count": 9,
   "metadata": {},
   "outputs": [
    {
     "name": "stdout",
     "output_type": "stream",
     "text": [
      "['Algunos', 'ejercicios', 'apartado', 'funciones,', 'bastante', 'dificiles', 'resolver']\n"
     ]
    }
   ],
   "source": [
    "#2. Escribe una función que reciba una cadena de texto como parámetro y devuelva una lista con todas las palabras que tienen más de 5 letras.\n",
    "\n",
    "def cadena_texto(cadena):\n",
    "    #.split() es un metodo para dividar una cadena de texto en palabras\n",
    "    palabras = cadena.split()\n",
    "    #crear una lista que, al activar el return, nos va almacenar los elementos en la lista\n",
    "    palabras_mas_largas =[]\n",
    "\n",
    "    #crear un bucle For para iterar/recorrer cada elemento de la lista\n",
    "    for palabra in palabras:\n",
    "        #Utilizar la funcion len() para que nos devuelva el numero de elementos de un objeto dado\n",
    "        if len(palabra) > 5:\n",
    "            #utilizar el metodo .append que agrega los elementos al final de una lista, en este caso la lista vacia de palabras mas largas.\n",
    "            palabras_mas_largas.append(palabra)\n",
    "    return palabras_mas_largas\n",
    "cadena = \"Algunos ejercicios del apartado funciones, son bastante dificiles de resolver\"\n",
    "print(cadena_texto(cadena))   \n"
   ]
  },
  {
   "cell_type": "code",
   "execution_count": null,
   "metadata": {},
   "outputs": [],
   "source": [
    "#3. Crea una función que tome una lista de palabras como entrada y devuelva una lista de palabras que contengan más de una vocal.\n",
    "\n",
    "def lista_palabras(entrada):\n",
    "    vocales = [a, e, i, o, u]\n",
    "\n",
    "    for volcal in vocales:\n",
    "        "
   ]
  },
  {
   "cell_type": "code",
   "execution_count": null,
   "metadata": {},
   "outputs": [],
   "source": [
    "frase = input('introduce frase: ')\n",
    "vocal = input('introduce vocal: ')\n",
    "\n",
    "frase_procesada = frase.replace(vocal , vocal.upper())\n",
    "print(frase_procesada)"
   ]
  },
  {
   "cell_type": "code",
   "execution_count": null,
   "metadata": {},
   "outputs": [],
   "source": [
    "#4. Crea una función que tome una lista de números y calcule la suma de todos los números pares en la lista.\n"
   ]
  },
  {
   "cell_type": "code",
   "execution_count": 11,
   "metadata": {},
   "outputs": [
    {
     "name": "stdout",
     "output_type": "stream",
     "text": [
      "El promedio de estos numeros es: 37.5\n"
     ]
    }
   ],
   "source": [
    "#5. Escribe una función que tome una lista de números como entrada y calcule el promedio de esos números.\n",
    "def lista_numeros(numeros):\n",
    "    #Funcion sum() sumamos y la funcion len() nos devuelve la longitud \n",
    "    return sum(numeros) / len(numeros)\n",
    "\n",
    "numeros = [15, 45, 80, 10]\n",
    "promedio = lista_numeros(numeros)\n",
    "print('El promedio de estos numeros es:', promedio)"
   ]
  },
  {
   "cell_type": "code",
   "execution_count": null,
   "metadata": {},
   "outputs": [],
   "source": [
    "#6. Crea una función que determine el próximo año en el que las cifras del año de tu cumpleaños no se repitan. \n",
    "#La función toma un año de tu cumpleaños como entrada y calcula el próximo año en el que las cifras no se repitan, es decir, todas las cifras en el año son diferentes entre sí."
   ]
  },
  {
   "cell_type": "code",
   "execution_count": null,
   "metadata": {},
   "outputs": [],
   "source": [
    "#7. Crea una función que determine cuántos pasteles puedes hornear según una receta y los ingredientes disponibles. La función toma dos diccionarios como entrada: receta, que contiene los ingredientes necesarios para un pastel, y disponible, que contiene la cantidad disponible de cada ingrediente. Sus parámetros de entrada son: \n",
    "#- receta: Un diccionario que representa los ingredientes necesarios para un pastel, donde las claves son los nombres de los ingredientes y los valores son las cantidades necesarias de cada ingrediente.\n",
    "#- disponible: Un diccionario que representa la cantidad disponible de cada ingrediente, donde las claves son los nombres de los ingredientes y los valores son las cantidades disponibles.\n",
    "#   receta1 = {'flour': 500, 'sugar': 200, 'eggs': 1}\n",
    "#   ingredientes1 = {'flour': 1200, 'sugar': 1200, 'eggs': 5, 'milk': 200}\n",
    "# pasteles(receta1, ingredientes1)    \n",
    "# output: con estos ingredientes solo puedo hacer 2 bizcochos\n"
   ]
  },
  {
   "cell_type": "code",
   "execution_count": null,
   "metadata": {},
   "outputs": [],
   "source": [
    "#BONUS: \n",
    "#8. Crea una función llamada fibonacci que tome un número n como argumento y devuelva una lista con los primeros n números de la serie Fibonacci."
   ]
  },
  {
   "cell_type": "markdown",
   "metadata": {},
   "source": [
    "-------EJERCICIO PAIR PROGRAMMING----------"
   ]
  },
  {
   "cell_type": "code",
   "execution_count": null,
   "metadata": {},
   "outputs": [],
   "source": [
    "#Descripción: Crea una función llamada calcular_area_circulo que tome el radio como parámetro y devuelva el área del círculo."
   ]
  },
  {
   "cell_type": "code",
   "execution_count": 17,
   "metadata": {},
   "outputs": [],
   "source": [
    "def agregar_productos(id, producto, precio, stock):\n",
    "    productos = {}\n",
    "    productos.update({'id':id, 'producto': producto, 'precio': precio, 'stock': stock })\n",
    "    return productos"
   ]
  },
  {
   "cell_type": "code",
   "execution_count": 20,
   "metadata": {},
   "outputs": [
    {
     "data": {
      "text/plain": [
       "{'id': 1, 'producto': 'mesa', 'precio': 30, 'stock': 5}"
      ]
     },
     "execution_count": 20,
     "metadata": {},
     "output_type": "execute_result"
    }
   ],
   "source": [
    "prod1 = agregar_productos(1, 'mesa', 30, 5)\n",
    "prod1"
   ]
  }
 ],
 "metadata": {
  "kernelspec": {
   "display_name": "Python 3",
   "language": "python",
   "name": "python3"
  },
  "language_info": {
   "codemirror_mode": {
    "name": "ipython",
    "version": 3
   },
   "file_extension": ".py",
   "mimetype": "text/x-python",
   "name": "python",
   "nbconvert_exporter": "python",
   "pygments_lexer": "ipython3",
   "version": "3.12.2"
  }
 },
 "nbformat": 4,
 "nbformat_minor": 2
}
