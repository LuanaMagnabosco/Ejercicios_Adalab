{
 "cells": [
  {
   "cell_type": "markdown",
   "metadata": {},
   "source": [
    "-----------EJERCICIOS DICCIONARIOS-----------"
   ]
  },
  {
   "cell_type": "code",
   "execution_count": 24,
   "metadata": {},
   "outputs": [
    {
     "name": "stdout",
     "output_type": "stream",
     "text": [
      "{'manzana': 2, 'banana': 3, 'uva': 5, 'pera': 4}\n"
     ]
    }
   ],
   "source": [
    "#Crea un diccionario llamado frutas con las siguientes parejas clave-valor 'manzana': 2 'banana': 3 'uva': 5 'pera': 4\n",
    "frutas = {'manzana':2,'banana':3, 'uva':5, 'pera':4}\n",
    "print(frutas)\n"
   ]
  },
  {
   "cell_type": "code",
   "execution_count": 25,
   "metadata": {},
   "outputs": [
    {
     "name": "stdout",
     "output_type": "stream",
     "text": [
      "['manzana', 'banana', 'uva', 'pera']\n"
     ]
    }
   ],
   "source": [
    "#2. Saca una lista de todas las frutas en el diccionario.\n",
    "lista_frutas =  list(frutas.keys())\n",
    "print(lista_frutas)"
   ]
  },
  {
   "cell_type": "code",
   "execution_count": 26,
   "metadata": {},
   "outputs": [
    {
     "name": "stdout",
     "output_type": "stream",
     "text": [
      "[2, 3, 5, 4]\n"
     ]
    }
   ],
   "source": [
    "#3. Saca una lista de todas las cantidades en el diccionario.\n",
    "cantidades_dicc = list(frutas.values())\n",
    "print(cantidades_dicc)"
   ]
  },
  {
   "cell_type": "code",
   "execution_count": 27,
   "metadata": {},
   "outputs": [
    {
     "data": {
      "text/plain": [
       "2"
      ]
     },
     "execution_count": 27,
     "metadata": {},
     "output_type": "execute_result"
    }
   ],
   "source": [
    "#4. ¿Qué cantidad de 'manzana' tenemos?. Si la clave 'manzana' no está presente, devuelve un mensaje diciendo \"No existe esa clave\".\n",
    "frutas.get('manzana', 'Esa clave no existe')"
   ]
  },
  {
   "cell_type": "code",
   "execution_count": 28,
   "metadata": {},
   "outputs": [
    {
     "name": "stdout",
     "output_type": "stream",
     "text": [
      "{'manzana': 2, 'banana': 3, 'uva': 5, 'pera': 4, 'kiwi': 6}\n"
     ]
    }
   ],
   "source": [
    "#5. Agrega un nuevo par de clave-valor al diccionario frutas: 'kiwi' con una cantidad de 6.\n",
    "frutas.update({'kiwi':6})\n",
    "print(frutas)"
   ]
  },
  {
   "cell_type": "code",
   "execution_count": 29,
   "metadata": {},
   "outputs": [
    {
     "name": "stdout",
     "output_type": "stream",
     "text": [
      "{'manzana': 2, 'banana': 3, 'uva': 8, 'pera': 4, 'kiwi': 6}\n"
     ]
    }
   ],
   "source": [
    "#6. Cambia la cantidad de 'uva' a 8.\n",
    "frutas['uva'] = 8\n",
    "print(frutas)\n"
   ]
  },
  {
   "cell_type": "code",
   "execution_count": 23,
   "metadata": {},
   "outputs": [
    {
     "name": "stdout",
     "output_type": "stream",
     "text": [
      "{'sandia': 7, 'mango': 4}\n"
     ]
    }
   ],
   "source": [
    "#7. Crea un segundo diccionario llamado frutas_nuevas con las siguientes parejas clavevalor: 'sandía': 7 'mango': 4\n",
    "frutas_nuevas = {'sandia': 7, 'mango': 4}\n",
    "print(frutas_nuevas)"
   ]
  },
  {
   "cell_type": "code",
   "execution_count": 32,
   "metadata": {},
   "outputs": [
    {
     "name": "stdout",
     "output_type": "stream",
     "text": [
      "{'manzana': 2, 'banana': 3, 'uva': 8, 'pera': 4, 'kiwi': 6, 'sandia': 7, 'mango': 4}\n"
     ]
    }
   ],
   "source": [
    "#8. Combinar los dos diccionarios frutas_nuevas y frutas en uno nuevos llamado frutas_total.\n",
    "#NO HE CONSEGUIDO USAR EL UPDATE //// VOLVER MAS TARDE ---- USÉ ASIGNACION DE DICCIONARIO NO SÉ DONDE ESTA EN MI TECLADO COPIÉ DE INTERNET \n",
    "frutas_total = frutas | frutas_nuevas\n",
    "print(frutas_total)"
   ]
  },
  {
   "cell_type": "code",
   "execution_count": 33,
   "metadata": {},
   "outputs": [
    {
     "name": "stdout",
     "output_type": "stream",
     "text": [
      "{'manzana': 2, 'banana': 3, 'uva': 8, 'pera': 4, 'kiwi': 6, 'sandia': 7}\n"
     ]
    }
   ],
   "source": [
    "#9. Elimina el último par de clave-valor del diccionario fruta_total.\n",
    "frutas_total.popitem()\n",
    "print(frutas_total)"
   ]
  },
  {
   "cell_type": "code",
   "execution_count": 34,
   "metadata": {},
   "outputs": [
    {
     "name": "stdout",
     "output_type": "stream",
     "text": [
      "{'manzana': 2, 'banana': 3, 'pera': 4, 'kiwi': 6, 'sandia': 7}\n"
     ]
    }
   ],
   "source": [
    "#10. Elimina el par de clave-valor correspondiente a la clave 'uva' del diccionario.\n",
    "frutas_total.pop('uva')\n",
    "print(frutas_total)\n"
   ]
  },
  {
   "cell_type": "code",
   "execution_count": 40,
   "metadata": {},
   "outputs": [
    {
     "name": "stdout",
     "output_type": "stream",
     "text": [
      "{'manzana': 10, 'banana': 3, 'pera': 4, 'kiwi': 6, 'sandia': 7}\n"
     ]
    }
   ],
   "source": [
    "#11. Agregar la fruta 'manzana' con una cantidad de 10 al diccionario. Si ya existe, no se realizarán cambios en los valores que teníamos.\n",
    "# ENTENDER MEJOR ESO ----- CAMBIÉ AL 10 ____ HE INTENTADO DEVOLVER AL DOS Y EL RESULTADO ME SALIÓ 10 \n",
    "# EL OUTPUT ES ESTE??????\n",
    "\n",
    "if 'manzana' not in frutas_total:\n",
    "    frutas_total['manzana'] = 2\n",
    "print(frutas_total)"
   ]
  },
  {
   "cell_type": "code",
   "execution_count": 46,
   "metadata": {},
   "outputs": [
    {
     "name": "stdout",
     "output_type": "stream",
     "text": [
      "[10, 3, 4, 6, 7]\n",
      "La suama total de la lista creada es: 30\n",
      "El valor más grande de la lista de frutas es: 10\n",
      "El valor más pequeño de la lista de frutas es: 3\n"
     ]
    }
   ],
   "source": [
    "#12. Combinar métodos de listas y diccionarios: \n",
    "#Obtén una lista de todas las cantidades en el diccionario y \n",
    "#calcula suma total de las cantidades del diccionario frutas_total. \n",
    "#Utilizando la lista creada en el apartado anterior encuentra la cantidad más grande y más pequeña.\n",
    "\n",
    "lista_cantidades = list(frutas_total.values())\n",
    "print(lista_cantidades)\n",
    "suma = sum(lista_cantidades)\n",
    "print('La suama total de la lista creada es:', suma)\n",
    "cant_grande = max(frutas_total.values())\n",
    "print('El valor más grande de la lista de frutas es:', cant_grande)\n",
    "cant_peque = min(frutas_total.values())\n",
    "print('El valor más pequeño de la lista de frutas es:', cant_peque)"
   ]
  },
  {
   "cell_type": "markdown",
   "metadata": {},
   "source": [
    "----------SENTENCIAS DE CONTROL---------------"
   ]
  },
  {
   "cell_type": "code",
   "execution_count": 47,
   "metadata": {},
   "outputs": [
    {
     "name": "stdout",
     "output_type": "stream",
     "text": [
      "Persona adulta\n"
     ]
    }
   ],
   "source": [
    "#Ejercicio 1: Evaluación de Edades: \n",
    "#Escribe un programa que solicite al usuario ingresar su edad. \n",
    "#Si la edad es menor de 18, muestra \"Eres menor de edad\". \n",
    "#Si la edad está entre 18 y 65 (incluyendo ambos extremos), muestra \"Eres adulto\". \n",
    "#Si la edad es mayor que 65, muestra \"Eres un adulto mayor\".\n",
    "#PASO A PASO: HECHO FUERA DE CLASE\n",
    "    #primer el input con el int ( para que me aparezca solo numeros interos)\n",
    "    #segundo tengo que definir las dos variables (menor de edad y adulto)\n",
    "    #todo lo demás entrará en el else y corresponderá a 'adulto mayor'\n",
    "\n",
    "categoria_edad = int(input('¿Cual es tu edad?'))\n",
    "if categoria_edad < 18:\n",
    "    print('Persona menor de edad')\n",
    "elif categoria_edad >= 18 and categoria_edad <= 64:\n",
    "     print('Persona adulta')\n",
    "else:\n",
    "    print('Persona adulta mayor')\n"
   ]
  },
  {
   "cell_type": "code",
   "execution_count": 49,
   "metadata": {},
   "outputs": [
    {
     "name": "stdout",
     "output_type": "stream",
     "text": [
      "Número invalido, por favor ingrese un número del 1 al 7.\n"
     ]
    }
   ],
   "source": [
    "#Ejercicio 2: Determinación de Día de la Semana:\n",
    "#Solicita al usuario que ingrese un número del 1 al 7. \n",
    "#Utilizando una serie de if-elif-else, muestra el día de la semana correspondiente al número ingresado. \n",
    "#Por ejemplo, si ingresa 1, muestra \"Lunes\".\n",
    "dia_usuario = input('Ingrese un número del 1 al 7')\n",
    "\n",
    "if dia_usuario == 1:\n",
    "    print('El día de la semana es lunes.')\n",
    "elif dia_usuario == 2:\n",
    "    print('El día de la semana es martes.')\n",
    "elif dia_usuario == 2:\n",
    "    print('El día de la semana es miércoles.')\n",
    "elif dia_usuario == 2:\n",
    "    print('El día de la semana es jueves.')\n",
    "elif dia_usuario == 2:\n",
    "    print('El día de la semana es viernes.')\n",
    "elif dia_usuario == 2:\n",
    "    print('El día de la semana es sábado.')\n",
    "elif dia_usuario == 2:\n",
    "    print('El día de la semana es domingo.')\n",
    "else:\n",
    "    print('Número invalido, por favor ingrese un número del 1 al 7.')"
   ]
  },
  {
   "cell_type": "code",
   "execution_count": 30,
   "metadata": {},
   "outputs": [],
   "source": [
    "#Ejercicio 3: Juego de Adivinanza:\n",
    "#Genera un número aleatorio entre 1 y 100. \n",
    "#Pídele al usuario que adivine el número. \n",
    "#Si el usuario adivina correctamente en el primer intento, muestra \"¡Ganaste en el primer intento!\". \n",
    "#Si el usuario no adivina en el primer intento, bríndale pistas (mayor o menor) y permite que intente nuevamente. \n",
    "#Muestra cuántos intentos le llevó al final.\n",
    "\n",
    "import random\n",
    "intentos = 0\n",
    "\n",
    "adivinar = input('Quieres adivinar un numero?')\n",
    "\n",
    "while adivinar == 'Si':\n",
    "    numero_usuario = int(input('Introduzca un numero de 0 a 100'))\n",
    "    intentos += 1\n",
    "    \n"
   ]
  },
  {
   "cell_type": "code",
   "execution_count": 38,
   "metadata": {},
   "outputs": [
    {
     "data": {
      "text/plain": [
       "'casa'"
      ]
     },
     "execution_count": 38,
     "metadata": {},
     "output_type": "execute_result"
    }
   ],
   "source": [
    "#Ejercicio 4: Juego de Adivinar la Palabra:\n",
    "#Elige una palabra secreta y ocúltala utilizando asteriscos, por ejemplo, \"secreto\" se muestra como \"*******\". \n",
    "#Permite al usuario adivinar letras una por una. \n",
    "#Si la letra adivinada está en la palabra secreta, muestra la palabra con las letras descubiertas y los asteriscos. \n",
    "#Si la letra no está en la palabra secreta, resta una vida al jugador. \n",
    "#El juego continúa hasta que el jugador adivine la palabra.\n",
    "\n",
    "#Elegir la palabra y ponemos en una variable\n",
    "#dividir las letras de la palabra en una lista \n",
    "# convertir cada letra en un *\n",
    "# input para pedir la letra al usuario y guardar en una variable\n",
    "#corroborar si la letra está en la palabra\n",
    "#\n",
    "\n",
    "\n",
    "palabra = 'casa'\n",
    "palabra1 = palabra.split()\n",
    "palabra\n"
   ]
  },
  {
   "cell_type": "markdown",
   "metadata": {},
   "source": [
    "----------------STRINGS----------------"
   ]
  },
  {
   "cell_type": "code",
   "execution_count": 56,
   "metadata": {},
   "outputs": [
    {
     "name": "stdout",
     "output_type": "stream",
     "text": [
      "La letra elegida por el usuario es: A\n",
      "El número de veces que la A aparece en la frase es: 4\n"
     ]
    }
   ],
   "source": [
    "#1. Dada una cadena de texto, contar cuántas veces aparece una letra específica en ella. \n",
    "#Usa un input para que el usuario elija la letra a buscar.\n",
    "letra_usuario = input('Elije una letra de la frase \"Python es un lenguaje de programación muy popular\"')\n",
    "print('La letra elegida por el usuario es:', letra_usuario.upper())\n",
    "cadena = \"Python es un lenguaje de programación muy popular\"\n",
    "contador = cadena.count(letra_usuario)\n",
    "print(f'El número de veces que la {letra_usuario.upper()} aparece en la frase es:' ,  contador)\n"
   ]
  },
  {
   "cell_type": "code",
   "execution_count": 60,
   "metadata": {},
   "outputs": [
    {
     "name": "stdout",
     "output_type": "stream",
     "text": [
      "Python es genial. Python es fácil de aprender.\n",
      "Python es genial. Python es DIFICIL de aprender.\n"
     ]
    }
   ],
   "source": [
    "#2. Escribe un programa que tome la siguiente cadena de texto y reemplace una palabra específica por otra palabra. \n",
    "#La palabra a reemplazar y reemplazada deben ser elegidas por el usuario.\n",
    "palabra_usuario = input('Elije una palabra de la frase \"Python es genial. Python es fácil de aprender.\"')\n",
    "reemplazando_por = input('Escriba una palabra para reemplazar la palabra anterior')\n",
    "frase_procesada = palabra_usuario.replace(palabra_usuario, reemplazando_por)\n",
    "print(\"Python es genial. Python es fácil de aprender.\")\n",
    "print(f\"Python es genial. Python es {frase_procesada.upper()} de aprender.\")"
   ]
  },
  {
   "cell_type": "code",
   "execution_count": 69,
   "metadata": {},
   "outputs": [
    {
     "name": "stdout",
     "output_type": "stream",
     "text": [
      "['Esto', 'es', 'una', 'oración', 'de', 'ejemplo']\n",
      "Esto es una oración de ejemplo\n"
     ]
    }
   ],
   "source": [
    "#3. Toma la siguiente oración y divídela en una lista de palabras. \n",
    "#Luego, únelas nuevamente en una sola cadena de texto.\n",
    "#PASO A PASO: \n",
    "    #1º transformar la cadena de texto en una lista siplit()\n",
    "    #2º crear otra variable que convierta todo lo que esté entre comillas (dejando un espacio) en elemento con el .join()\n",
    "oracion = \"Esto es una oración de ejemplo\"\n",
    "lista_palabra = oracion.split()\n",
    "print(lista_palabra)\n",
    "cadena1 = ' '.join(lista_palabra)\n",
    "print(cadena1)"
   ]
  },
  {
   "cell_type": "code",
   "execution_count": 70,
   "metadata": {},
   "outputs": [
    {
     "name": "stdout",
     "output_type": "stream",
     "text": [
      "['Esta', 'es', 'una', 'cadena', 'con', 'cinco', 'palabras']\n",
      "El numero de palabras de la lista es: 7\n"
     ]
    }
   ],
   "source": [
    "#4. Desarrolla un programa que cuente cuántas palabras hay en la siguiente frase.\n",
    "#--------\"Esta es una cadena con cinco palabras\"--------#\n",
    "cadena = \"Esta es una cadena con cinco palabras\"\n",
    "lista_cadena = cadena.split()\n",
    "print(lista_cadena)\n",
    "numero_palabras = len(lista_cadena)\n",
    "print('El numero de palabras de la lista es:', numero_palabras)"
   ]
  },
  {
   "cell_type": "code",
   "execution_count": 74,
   "metadata": {},
   "outputs": [
    {
     "name": "stdout",
     "output_type": "stream",
     "text": [
      "La frase del usuario es: hola mundo\n",
      "La frase invertida es: mundo hola\n"
     ]
    }
   ],
   "source": [
    "#5. Escribe un programa que invierta una cadena de texto dada por un usuario. \n",
    "#Mira el siguiente ejemplo para entender lo que se pide:\n",
    "cadena_usuario = input('Escriba una frase')\n",
    "frase_usuario = cadena_usuario.split()\n",
    "cadena_invertida = frase_usuario[::-1]\n",
    "print('La frase del usuario es:', cadena_usuario)\n",
    "print('La frase invertida es:', ' '.join(cadena_invertida))"
   ]
  },
  {
   "cell_type": "code",
   "execution_count": 79,
   "metadata": {},
   "outputs": [
    {
     "name": "stdout",
     "output_type": "stream",
     "text": [
      "['hoy', 'es', 'sábado', 'santo']\n",
      "La posicion de la palabra eligida por la usuária es: 3\n"
     ]
    }
   ],
   "source": [
    "#6. Crea un programa que busque una palabra específica(elegida por la usuaria) en una cadena de texto e indique su posición.\n",
    "\n",
    "palabra_usuaria = input('Elige una palabra de la frase: \"hoy es sábado santo\"')\n",
    "frase1 = \"hoy es sábado santo\".split()\n",
    "print(frase1)\n",
    "posición_palabra = frase1.index(palabra_usuaria)\n",
    "print('La posicion de la palabra eligida por la usuária es:', posición_palabra)"
   ]
  },
  {
   "cell_type": "markdown",
   "metadata": {},
   "source": [
    "---------------LISTAS--------------"
   ]
  },
  {
   "cell_type": "code",
   "execution_count": 82,
   "metadata": {},
   "outputs": [
    {
     "name": "stdout",
     "output_type": "stream",
     "text": [
      "['manzana', 'pera', 'banana', 'uva', 'kiwi']\n",
      "['manzana', 'durazno', 'banana', 'uva', 'kiwi']\n",
      "El tercer elemento de la lsta es: banana\n"
     ]
    }
   ],
   "source": [
    "#1. Dada la siguiente lista:\n",
    "#frutas = ['manzana', 'pera', 'banana', 'uva', 'kiwi'], realiza lo siguiente: \n",
    "#a) Reemplaza el segundo elemento con 'durazno'.\n",
    "#b) Agrega 'naranja' al final de la lista. \n",
    "#c) Extrae y muestra por pantalla el tercer elemento de la lista.\n",
    "\n",
    "frutas = ['manzana', 'pera', 'banana', 'uva', 'kiwi']\n",
    "print(frutas)\n",
    "frutas[1] = 'durazno'\n",
    "print(frutas)\n",
    "tercer_elemento = frutas[2]\n",
    "print('El tercer elemento de la lsta es:', tercer_elemento)\n"
   ]
  },
  {
   "cell_type": "code",
   "execution_count": 1,
   "metadata": {},
   "outputs": [
    {
     "name": "stdout",
     "output_type": "stream",
     "text": [
      "[10, 25, 15, 30, 20]\n"
     ]
    }
   ],
   "source": [
    "#2. Crea una lista llamada numeros que contenga los siguientes valores: 10, 25, 15, 30, 20.\n",
    "numeros = [10, 25, 15, 30, 20]\n",
    "print(numeros)\n"
   ]
  },
  {
   "cell_type": "code",
   "execution_count": 3,
   "metadata": {},
   "outputs": [
    {
     "name": "stdout",
     "output_type": "stream",
     "text": [
      "None\n"
     ]
    }
   ],
   "source": [
    "#3. Agrega el valor 35 al incio de la lista numeros.\n",
    "numeros_00 = numeros.insert(0, 35)\n",
    "print(numeros_00)"
   ]
  },
  {
   "cell_type": "code",
   "execution_count": 4,
   "metadata": {},
   "outputs": [
    {
     "name": "stdout",
     "output_type": "stream",
     "text": [
      "None\n"
     ]
    }
   ],
   "source": [
    "#3. Agrega el valor 35 al incio de la lista numeros.\n",
    "numeros_insertado = numeros.insert(0, 35)\n",
    "print(numeros_insertado)"
   ]
  },
  {
   "cell_type": "code",
   "execution_count": 5,
   "metadata": {},
   "outputs": [
    {
     "ename": "AttributeError",
     "evalue": "'NoneType' object has no attribute 'sorted'",
     "output_type": "error",
     "traceback": [
      "\u001b[0;31m---------------------------------------------------------------------------\u001b[0m",
      "\u001b[0;31mAttributeError\u001b[0m                            Traceback (most recent call last)",
      "Cell \u001b[0;32mIn[5], line 2\u001b[0m\n\u001b[1;32m      1\u001b[0m \u001b[38;5;66;03m#4. Ordena la lista numeros en orden ascendente.\u001b[39;00m\n\u001b[0;32m----> 2\u001b[0m numeros_00\u001b[38;5;241m.\u001b[39msorted()\n\u001b[1;32m      3\u001b[0m \u001b[38;5;28mprint\u001b[39m(numeros_00)\n",
      "\u001b[0;31mAttributeError\u001b[0m: 'NoneType' object has no attribute 'sorted'"
     ]
    }
   ],
   "source": [
    "#4. Ordena la lista numeros en orden ascendente.\n",
    "numeros_00.sorted()\n",
    "print(numeros_00)"
   ]
  },
  {
   "cell_type": "code",
   "execution_count": 25,
   "metadata": {},
   "outputs": [
    {
     "name": "stdout",
     "output_type": "stream",
     "text": [
      "None\n"
     ]
    }
   ],
   "source": [
    "#Dada la siguiente lista numeros2 = [45, 22, 19, 38, 29]. \n",
    "#Crea una nueva lista llamada numeros3 donde tengamos la unión de los todos los elementos de las dos listas (numeros y numeros2) de tal forma que el resultado final sea:\n",
    "numeros1 = [10, 25, 15, 30, 20]\n",
    "numeros2 = [45, 22, 19, 38, 29]\n",
    "numeros3 = numeros1.append(numeros2)\n",
    "print(numeros3)\n"
   ]
  },
  {
   "cell_type": "markdown",
   "metadata": {},
   "source": [
    "----------------SETS------------------"
   ]
  },
  {
   "cell_type": "code",
   "execution_count": 6,
   "metadata": {},
   "outputs": [
    {
     "data": {
      "text/plain": [
       "{1, 2, 3, 4, 5}"
      ]
     },
     "execution_count": 6,
     "metadata": {},
     "output_type": "execute_result"
    }
   ],
   "source": [
    "#1. Crea un set llamado conjunto1 con los números del 1 al 5.\n",
    "conjunto1 = {1, 2, 3, 4, 5}\n",
    "conjunto1"
   ]
  },
  {
   "cell_type": "code",
   "execution_count": 7,
   "metadata": {},
   "outputs": [
    {
     "data": {
      "text/plain": [
       "{4, 5, 6, 7, 8}"
      ]
     },
     "execution_count": 7,
     "metadata": {},
     "output_type": "execute_result"
    }
   ],
   "source": [
    "#2. Crea otro set llamado conjunto2 con los números del 4 al 8.\n",
    "conjunto2 = {4, 5, 6, 7, 8}\n",
    "conjunto2"
   ]
  },
  {
   "cell_type": "code",
   "execution_count": 8,
   "metadata": {},
   "outputs": [
    {
     "data": {
      "text/plain": [
       "{1, 2, 3, 4, 5, 6, 7, 8}"
      ]
     },
     "execution_count": 8,
     "metadata": {},
     "output_type": "execute_result"
    }
   ],
   "source": [
    "#3. Obtén la unión de conjunto1 y conjunto2.\n",
    "conjunto3 = conjunto2.union(conjunto1)\n",
    "conjunto3"
   ]
  },
  {
   "cell_type": "code",
   "execution_count": 10,
   "metadata": {},
   "outputs": [
    {
     "name": "stdout",
     "output_type": "stream",
     "text": [
      "Utilizando .intersection(): {4, 5}\n",
      "Utilizando &: {4, 5}\n"
     ]
    }
   ],
   "source": [
    "#4. Obtén la intersección de conjunto1 y conjunto2.\n",
    "# FORMA 1 utilizando intersection\n",
    "interseccion1 = conjunto1.intersection(conjunto2)\n",
    "print('Utilizando .intersection():', interseccion1)\n",
    "\n",
    "#FORMA 2 utilizando el &\n",
    "interseccion2 = conjunto1 & conjunto2\n",
    "print('Utilizando &:', interseccion2)"
   ]
  },
  {
   "cell_type": "code",
   "execution_count": 11,
   "metadata": {},
   "outputs": [
    {
     "data": {
      "text/plain": [
       "{1, 2, 3}"
      ]
     },
     "execution_count": 11,
     "metadata": {},
     "output_type": "execute_result"
    }
   ],
   "source": [
    "#5. Obtén los elementos que están en conjunto1 pero no en el conjunto2.\n",
    "conjunto4 = conjunto1.difference(conjunto2)\n",
    "conjunto4\n"
   ]
  }
 ],
 "metadata": {
  "kernelspec": {
   "display_name": "Python 3",
   "language": "python",
   "name": "python3"
  },
  "language_info": {
   "codemirror_mode": {
    "name": "ipython",
    "version": 3
   },
   "file_extension": ".py",
   "mimetype": "text/x-python",
   "name": "python",
   "nbconvert_exporter": "python",
   "pygments_lexer": "ipython3",
   "version": "3.11.5"
  }
 },
 "nbformat": 4,
 "nbformat_minor": 2
}
