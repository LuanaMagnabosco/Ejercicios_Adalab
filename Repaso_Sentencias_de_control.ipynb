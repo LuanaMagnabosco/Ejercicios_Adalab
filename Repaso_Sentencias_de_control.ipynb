{
 "cells": [
  {
   "cell_type": "markdown",
   "metadata": {},
   "source": [
    "---------SENTENCIAS DE CONTROL------------"
   ]
  },
  {
   "cell_type": "code",
   "execution_count": 8,
   "metadata": {},
   "outputs": [
    {
     "name": "stdout",
     "output_type": "stream",
     "text": [
      "El triangulo es escaleno.\n"
     ]
    }
   ],
   "source": [
    "#Ejercicio_1: Clasificación de triángulos: \n",
    "#Pide al usuario que ingrese las longitudes de tres lados de un triángulo. \n",
    "#Determina si el triángulo es equilátero (todos los lados iguales), \n",
    "#isósceles (dos lados iguales), o escaleno (ningún lado igual).\n",
    "#¡¡¡¡No importa el orden de los elementos!!!!\n",
    "\n",
    "long1 = float(input('Primera longitud'))\n",
    "long2 = float(input('Segunda longitud'))\n",
    "long3 = float(input('Tercera longitud'))\n",
    "\n",
    "if long1 == long2 == long3:\n",
    "    print('El triangulo es equilátero.')\n",
    "elif long1 == long2 or long1 == long3 or long2 == long3:\n",
    "    print('El triangulo es isósceles.')\n",
    "else:\n",
    "    print('El triangulo es escaleno.')"
   ]
  },
  {
   "cell_type": "code",
   "execution_count": 5,
   "metadata": {},
   "outputs": [],
   "source": [
    "#Ejercicio_2: Conversión de temperatura: \n",
    "#Crea un programa que permita al usuario convertir temperaturas entre Celsius y Fahrenheit. \n",
    "#Pide al usuario que ingrese la temperatura y la unidad (C o F) y realiza la conversión.\n"
   ]
  },
  {
   "cell_type": "code",
   "execution_count": 5,
   "metadata": {},
   "outputs": [
    {
     "name": "stdout",
     "output_type": "stream",
     "text": [
      "Tu saldo actual es: $1000.00\n",
      "Tu saldo actual es: $1100.00\n"
     ]
    }
   ],
   "source": [
    "#Ejercicio_3: Cajero automático: \n",
    "#Simula un cajero automático que permite a los usuarios verificar su saldo, depositar y retirar dinero. \n",
    "#El programa debe mantener un registro del saldo actual.\n",
    "saldo = 1000\n",
    "#While true = Bucle infinito, siempre se para con un break \n",
    "while True:\n",
    "    print(f'Tu saldo actual es: ${saldo:.2f}')\n",
    "    opcion = input('¿Qué deseas hacer? (depositar/retirar/salir):')\n",
    "\n",
    "    if opcion.lower() == 'depositar':\n",
    "        monto = float(input('Ingresa la cantidad a depositar:'))\n",
    "        saldo += monto\n",
    "\n",
    "    elif opcion.lower() == 'retirar':\n",
    "        monto = float(input('Ingresa la cantidad a retirar:'))\n",
    "        if monto <= saldo:\n",
    "            saldo -= monto\n",
    "        else:\n",
    "            print('Saldo insuficiente')\n",
    "\n",
    "    elif opcion.lower() == 'salir':\n",
    "        break\n",
    "\n",
    "    else:\n",
    "        print('Opción no valida. Intenta de nuevo')\n",
    "\n",
    "\n"
   ]
  },
  {
   "cell_type": "code",
   "execution_count": 4,
   "metadata": {},
   "outputs": [
    {
     "name": "stdout",
     "output_type": "stream",
     "text": [
      "El precio final despues del descuento es: $51.30\n",
      "Ahorras: $5.70\n"
     ]
    }
   ],
   "source": [
    "#Ejercicio_4: Calculadora de descuento: \n",
    "#Pide al usuario que ingrese el precio original de un producto y el porcentaje de descuento. \n",
    "#Calcula el precio final después del descuento y muestra el ahorro.\n",
    "\n",
    "precio_original = float(input('¿Cual es el precio original del producto?'))\n",
    "porcentaje_descuento = float(input('¿Cual es el descuento?'))\n",
    "\n",
    "descuento = precio_original * (porcentaje_descuento / 100)\n",
    "\n",
    "precio_final = precio_original - descuento\n",
    "\n",
    "print(f'El precio final despues del descuento es: ${precio_final:.2f}')\n",
    "\n",
    "print(f'Ahorras: ${descuento:.2f}')\n",
    "\n",
    "\n",
    "\n"
   ]
  },
  {
   "cell_type": "code",
   "execution_count": null,
   "metadata": {},
   "outputs": [],
   "source": [
    "#Ejercicio_5: Cálculo de promedio de calificaciones: \n",
    "#Pide al usuario que ingrese una serie de calificaciones y calcule el promedio. También muestra si el estudiante aprobó (promedio mayor o igual a 5) o no. Pistas: Solicita al usuario que ingrese la cantidad de calificaciones que quiere promediar.\n",
    "# Luego, pide al usuario que ingrese cada calificación una por una.\n",
    "# Calcula el promedio de las calificaciones ingresadas.\n",
    "# Muestra el resultado del promedio con dos decimales.\n",
    "# Determina si el estudiante aprobó o no. \n",
    "#Un estudiante se considera aprobado si su promedio es mayor o igual a 5."
   ]
  },
  {
   "cell_type": "code",
   "execution_count": null,
   "metadata": {},
   "outputs": [],
   "source": [
    "#Ejercicio_6: Generador de contraseñas seguras: Crea un programa que genere una contraseña segura. El usuario debe especificar la longitud deseada y si desea incluir números, letras mayúsculas, minúsculas y caracteres especiales. Pistas:\n",
    "#Pregunta al usuario cuántos caracteres debe tener la contraseña que desea generar.\n",
    "#Luego, consulta al usuario si quiere incluir números, letras mayúsculas, letras minúsculas y caracteres especiales en su contraseña.\n",
    "#Basado en las respuestas del usuario, crea una contraseña segura aleatoria que cumple con los criterios especificados.\n",
    "#Muestra la contraseña generada como resultado.\n",
    "#Este ejercicio le permite al usuario personalizar la fortaleza y complejidad de su contraseña según sus preferencias, lo que es esencial para mantener la seguridad en línea."
   ]
  },
  {
   "cell_type": "code",
   "execution_count": null,
   "metadata": {},
   "outputs": [],
   "source": [
    "#Ejercicio_7: Calculadora de edad de perros: Pide al usuario que ingrese la edad de su perro en años y calcula su edad equivalente en años humanos. \n",
    "#La fórmula comúnmente utilizada es diferente para los primeros dos años y luego para el resto."
   ]
  },
  {
   "cell_type": "code",
   "execution_count": null,
   "metadata": {},
   "outputs": [],
   "source": [
    "#Ejercicio_8: Simulador de ruleta: Simula un juego de ruleta en el que el usuario apuesta un monto en un número o color específico. \n",
    "#Genera un número aleatorio y determina si el usuario gana o pierde.\n",
    "#Comienza por preguntar al usuario cuánto dinero quiere apostar en el juego de ruleta.\n",
    "#Luego, pregunta al usuario si quiere apostar a un número específico o a un color (rojo o negro).\n",
    "#Si el usuario elige apostar a un número, solicita que ingrese el número en el que quiere apostar (de 1 a 36, ya que son los números en una ruleta estándar).\n",
    "#Si el usuario elige apostar a un color, solicita que indique si desea apostar al color rojo o negro.\n",
    "#Genera un número aleatorio entre 1 y 36 para simular el resultado de la ruleta.\n",
    "#Comprueba si el resultado coincide con la apuesta del usuario (ya sea número o color).\n",
    "#Si coincide, el usuario gana un premio equivalente a su apuesta.\n",
    "#Si no coincide, el usuario pierde la apuesta. \n",
    "#Muestra el resultado del juego, indicando si el usuario ganó o perdió y cuánto dinero tiene después del juego."
   ]
  },
  {
   "cell_type": "code",
   "execution_count": 9,
   "metadata": {},
   "outputs": [
    {
     "name": "stdout",
     "output_type": "stream",
     "text": [
      "8 2 8\n"
     ]
    }
   ],
   "source": [
    "#1. Crea las siguientes variables:\n",
    "##`var1` sea un número con el valor `8`.\n",
    "##`var2` sea un número con el valor `2`.\n",
    "##`var3` sea un número con el valor `8`.\n",
    "\n",
    "var1 = 8\n",
    "var2 = 2\n",
    "var3 = 8\n",
    "print(var1, var2, var3)"
   ]
  },
  {
   "cell_type": "code",
   "execution_count": 14,
   "metadata": {},
   "outputs": [
    {
     "name": "stdout",
     "output_type": "stream",
     "text": [
      "¡Es enorme!\n",
      "¡Es enorme!\n",
      "¡Pero de verdad!\n",
      "Son iguales.\n",
      "La diferencias es: 6\n",
      "¡Es enorme!\n",
      "Es chiquitín también.\n",
      "Son iguales.\n"
     ]
    }
   ],
   "source": [
    "## 2. Comprueba si `var1` es mayor que 6, y si es así imprime `¡Es enorme!`.\n",
    "\n",
    "if var1 > 6:\n",
    "    print('¡Es enorme!')\n",
    "if var2 > 6:\n",
    "    print('¡Es enorme también!')\n",
    "if var3 > 6:\n",
    "    print('¡Es enorme!')\n",
    "    print('¡Pero de verdad!')\n",
    "if var1 == var3:\n",
    "    print('Son iguales.')\n",
    "if var1 == var2:\n",
    "    print('Son iguales.')\n",
    "if var1 >= var2:\n",
    "    dif = (var1 - var2)\n",
    "    print('La diferencias es:', dif)\n",
    "if var1 > 6:\n",
    "    print('¡Es enorme!')\n",
    "else:\n",
    "    print('Es chiquitín.')\n",
    "if var2 > 6:\n",
    "    print('¡Es enorme también!')\n",
    "else:\n",
    "    print('Es chiquitín también.')\n",
    "if var1 == var3:\n",
    "    print('Son iguales.')\n",
    "else:\n",
    "    print('Son distintos.')\n",
    "\n",
    "\n",
    "\n"
   ]
  },
  {
   "cell_type": "code",
   "execution_count": 17,
   "metadata": {},
   "outputs": [
    {
     "name": "stdout",
     "output_type": "stream",
     "text": [
      "Debes pagar 10€ para entrar a la sala\n"
     ]
    }
   ],
   "source": [
    "##11. Escribe un programa para una empresa que tiene salas de juegos para todas las edades y quiere calcular de forma automática el precio que debe cobrar a sus clientes por entrar. El programa debe preguntar al usuario:\n",
    "# La edad del cliente. \n",
    "# Las condiciones que tendremos que chequear: \n",
    "# Si el cliente es menor de 4 años puede entrar gratis, \n",
    "# Si tiene entre 4 y 18 años debe pagar 5€ y \n",
    "# Si es mayor de 18 años, 10€.\n",
    "\n",
    "edad = int(input('¿Cual es tu edad?'))\n",
    "\n",
    "if edad < 4:\n",
    "    print('Puedes entrar gratis a la sala')\n",
    "elif edad >= 4 and edad < 18:\n",
    "    print('Debes pagar 5€ para entrar a la sala')\n",
    "else:\n",
    "    print('Debes pagar 10€ para entrar a la sala')\n"
   ]
  },
  {
   "cell_type": "code",
   "execution_count": 19,
   "metadata": {},
   "outputs": [
    {
     "name": "stdout",
     "output_type": "stream",
     "text": [
      "Ahorros actuales: 5\n",
      "Ahorros actuales: 10\n",
      "Ahorros actuales: 15\n",
      "Ahorros actuales: 20\n"
     ]
    }
   ],
   "source": [
    "#12. Inicia la varible `ahorros` con un valor de `5`. \n",
    "#Crea un bucle while que mientras los ahorros sean igual o menor que `20` imprima por pantalla la cantidad de ahorros que tenemos, y añádele `5` más.\n",
    "#Cuando la variable ahorros supere el valor de 20 el bucle deberá parar. \n",
    "\n",
    "ahorros = 5\n",
    "\n",
    "\n",
    "while ahorros <= 20:\n",
    "    print(\"Ahorros actuales:\", ahorros)\n",
    "    ahorros += 5\n"
   ]
  },
  {
   "cell_type": "code",
   "execution_count": null,
   "metadata": {},
   "outputs": [],
   "source": [
    "#13. Escribe un programa que convierta grados Celsius a grados Fahrenheit o viceversa, según la elección del usuario. Para eso tendrás que preguntar: \n",
    "# Desde que unidades va a convertir la temperatura, Celsius o Fahrenheit. \n",
    "# Cuál es valor de la temperatura que quiere convertir. \n",
    "\n"
   ]
  },
  {
   "cell_type": "markdown",
   "metadata": {},
   "source": [
    "\n",
    "\n",
    "14.  Crea un programa que calcule el impuesto sobre la renta de una persona basado en su ingreso anual y su estado civil (soltero o casado). Para eso deberás: \n",
    "\n",
    "  - Solicitar al usuario su ingreso anual.\n",
    "\n",
    "  - Preguntar al usuario su estado civil, permitiendo dos opciones: \"soltero\" (S) o \"casado\" (C).\n",
    "\n",
    "  - Calcular el impuesto sobre la renta utilizando las siguientes reglas:\n",
    "\n",
    "    - Si el estado civil es \"soltero\" (S):\n",
    "\n",
    "      - Si el ingreso anual es menor o igual a $9,875, el impuesto es el 10% del ingreso anual.\n",
    "\n",
    "      - Si el ingreso anual está entre $9,876 y $40,125, el impuesto es el 10% de los primeros $9,875 más el 12% de la cantidad que excede los $9,875.\n",
    "     \n",
    "\n",
    "    - Si el estado civil es \"casado\" (C):\n",
    "    \n",
    "      - Si el ingreso anual es menor o igual a $19,850, el impuesto es el 10% del ingreso anual.\n",
    "\n",
    "      - Si el ingreso anual está entre $19,851 y $80,250, el impuesto es el 10% de los primeros $19,850 más el 12% de la cantidad que excede los $19,850.\n",
    "\n",
    "15. Crea un programa que evalúe el nivel de contaminación del aire en función de la concentración de partículas en suspensión (PM2.5) en microgramos por metro cúbico (µg/m³). Para eso deberás: \n",
    "\n",
    "  - Solicita al usuario que ingrese la concentración de PM2.5 en el aire en µg/m³. El usuario debe ingresar un valor numérico.\n",
    "\n",
    "  - Evalua el nivel de contaminación del aire según la siguiente escala:\n",
    "\n",
    "    - Si la concentración de PM2.5 es menor o igual a 12 µg/m³, el aire se considera \"Excelente\".\n",
    "\n",
    "    - Si la concentración de PM2.5 está entre 13 µg/m³ y 35 µg/m³, el aire se considera \"Bueno\".\n",
    "\n",
    "    - Si la concentración de PM2.5 está entre 36 µg/m³ y 55 µg/m³, el aire se considera \"Aceptable\".\n",
    "\n",
    "    - Si la concentración de PM2.5 está entre 56 µg/m³ y 150 µg/m³, el aire se considera \"No Saludable para Grupos Sensibles\".\n",
    "\n",
    "    - Si la concentración de PM2.5 es mayor a 150 µg/m³, el aire se considera \"No Saludable\".\n",
    "\n",
    "  - Muestra un mensaje indicando el estado de la calidad del aire. Por ejemplo, si la concentración de PM2.5 es 25 µg/m³, el programa debe mostrar: \"La calidad del aire es Buena\".\n",
    "\n",
    "  -  Además, si la concentración de PM2.5 está en la categoría \"No Saludable para Grupos Sensibles\" o \"No Saludable\", el programa debe advertir al usuario sobre los posibles efectos en la salud.\n",
    "\n",
    "  - Si la concentración ingresada por el usuario es negativa o no es un número válido, el programa debe mostrar un mensaje de error."
   ]
  }
 ],
 "metadata": {
  "kernelspec": {
   "display_name": "base",
   "language": "python",
   "name": "python3"
  },
  "language_info": {
   "codemirror_mode": {
    "name": "ipython",
    "version": 3
   },
   "file_extension": ".py",
   "mimetype": "text/x-python",
   "name": "python",
   "nbconvert_exporter": "python",
   "pygments_lexer": "ipython3",
   "version": "3.11.5"
  }
 },
 "nbformat": 4,
 "nbformat_minor": 2
}
