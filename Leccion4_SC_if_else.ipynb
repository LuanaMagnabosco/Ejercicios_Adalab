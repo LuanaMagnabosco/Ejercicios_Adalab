{
 "cells": [
  {
   "cell_type": "code",
   "execution_count": 4,
   "metadata": {},
   "outputs": [
    {
     "name": "stdout",
     "output_type": "stream",
     "text": [
      "1\n"
     ]
    }
   ],
   "source": [
    "#El operador % en Python es conocido como el operador de módulo o resto. \n",
    "#Calcula el resto de la división de un número por otro. \n",
    "#En otras palabras, devuelve el residuo de la división entre dos números.\n",
    "#Por ejemplo, si utilizas el operador % para dividir 5 por 2, obtendrás un resultado de 1, ya que 5 dividido por 2 es 2 con un residuo de 1. \n",
    "#En términos matemáticos, se puede expresar como 5 = 2 * 2 + 1.\n",
    "\n",
    "resultado = 5 % 2\n",
    "print(resultado)\n"
   ]
  },
  {
   "cell_type": "markdown",
   "metadata": {},
   "source": [
    "¡¡¡¡ FLOAT() !!!! El tipo float en Python es un tipo de dato numérico que representa números de punto flotante, es decir, números que tienen una parte fraccionaria. Estos números pueden contener decimales y se pueden escribir con o sin parte fraccionaria.\n"
   ]
  },
  {
   "cell_type": "code",
   "execution_count": 1,
   "metadata": {},
   "outputs": [
    {
     "name": "stdout",
     "output_type": "stream",
     "text": [
      "El numero 55 es positivo\n"
     ]
    }
   ],
   "source": [
    "#Ejercicio_1: Verificar si un número es positivo, negativo o cero\n",
    "\n",
    "numero = int(input('Digitar un numero'))\n",
    "if numero > 0:\n",
    "    print('El numero', numero, 'es positivo')\n",
    "elif numero == 0:\n",
    "    print('El numero es', numero)\n",
    "else:\n",
    "    print('El numero', numero, 'es negativo')"
   ]
  },
  {
   "cell_type": "code",
   "execution_count": 9,
   "metadata": {},
   "outputs": [
    {
     "name": "stdout",
     "output_type": "stream",
     "text": [
      "El numero 9 es impar\n"
     ]
    }
   ],
   "source": [
    "#Ejercicio_2: Verificar si un numero es par o impar\n",
    "    #definir la variable y indicar que sea un numero intero con la funcion int() para que siempre sea un numero intero independeinte de lo que escriba el usuario\n",
    "    #defifinir la prengunta con el input()\n",
    "    #establecer la condicion con el if\n",
    "numero = int(input('Digitar un numero'))\n",
    "if numero % 2 == 0:\n",
    "    print('El numero', numero, 'es par')\n",
    "else:\n",
    "    print('El numero', numero, 'es impar')"
   ]
  },
  {
   "cell_type": "code",
   "execution_count": 18,
   "metadata": {},
   "outputs": [
    {
     "name": "stdout",
     "output_type": "stream",
     "text": [
      "90 : el estudiente aprobó.\n"
     ]
    }
   ],
   "source": [
    "#Ejercicio_3: Dada la calificación de un estudiante en un examen, \n",
    "#verifica si aprobó o suspendió (si la calificación es mayor o igual a 60 se considera aprobado).\n",
    "\n",
    "calificación = int(input('Cual es la nota del examen?'))\n",
    "if calificación >= 60:\n",
    "    print(calificación,':', 'el estudiente aprobó.')\n",
    "else:\n",
    "    print(calificación,':','el estudiente suspendió.')"
   ]
  },
  {
   "cell_type": "code",
   "execution_count": 20,
   "metadata": {},
   "outputs": [
    {
     "name": "stdout",
     "output_type": "stream",
     "text": [
      "El máximo es: 9.0\n"
     ]
    }
   ],
   "source": [
    "#Ejercicio_4: Dados dos números, encuentra el máximo entre ellos.\n",
    "numero1 = float(input('Ingrese el primer numero:'))\n",
    "numero2 = float(input('Ingrese el segundo numero:'))\n",
    "if numero1 > numero2:\n",
    "    print('El máximo es:', numero1)\n",
    "else:\n",
    "    print('El máximo es:', numero2)"
   ]
  },
  {
   "cell_type": "code",
   "execution_count": 22,
   "metadata": {},
   "outputs": [
    {
     "name": "stdout",
     "output_type": "stream",
     "text": [
      "La letra es una consonante\n"
     ]
    }
   ],
   "source": [
    "#Ejercicio_5: Dada una letra, verifica si es una vocal o una consonante.\n",
    "#primero establecer que sea siempre un sprint con el str\n",
    "#segundo, establecer el conjunto mas facil de identificar, en este caso las vocales que son menos que las consonantes\n",
    "#todo lo demás se aplica por logica con el else.\n",
    "\n",
    "letra = str(input('Digite una letra'))\n",
    "if letra in ('a', 'e', 'i', 'o', 'u'):\n",
    "    print('La letra es una vocal', letra)\n",
    "else:\n",
    "    print('La letra es una consonante')"
   ]
  },
  {
   "cell_type": "code",
   "execution_count": 26,
   "metadata": {},
   "outputs": [
    {
     "name": "stdout",
     "output_type": "stream",
     "text": [
      "No se aplicó el descuento\n"
     ]
    }
   ],
   "source": [
    "#Ejercicio_6: Dado el monto total de una compra, calcula el descuento aplicado según las siguientes condiciones: \n",
    "#si el monto es mayor o igual a $100, aplica un descuento del 10%; de lo contrario, no aplica ningún descuento.\n",
    "#PASO A PASO:  \n",
    "    #Primer establezco el monto total para el cual se va aplicar el descuento >=\n",
    "    #Establezco el descuento o establecendo variables y luego ejecutando la operacion aritmetica: (numero * porcentaje ) / 100 \n",
    "    #o directamente con el porcentaje si lo sé variable * resultado del calculo de porcentaje.\n",
    "monto_total = float(input('Total de la compra:'))\n",
    "if monto_total >= 100:\n",
    "    descuento = monto_total * 0.1\n",
    "    print('Se aplicó el descuento del 10%')\n",
    "else:\n",
    "    print('No se aplicó el descuento')"
   ]
  },
  {
   "cell_type": "code",
   "execution_count": 27,
   "metadata": {},
   "outputs": [
    {
     "name": "stdout",
     "output_type": "stream",
     "text": [
      "1981 no es un año bisiesto\n"
     ]
    }
   ],
   "source": [
    "#Ejercicio_7: Dado un año, verifica si es bisiesto o no \n",
    "#(un año es bisiesto si es divisible entre 4, excepto aquellos divisibles entre 100 pero no entre 400).\n",
    "#PASO A PASO:\n",
    "    #Entender que el año bisiesto es divisible por 4 y no por 100 (?¿?¿?¿?¿?)\n",
    "    #\n",
    "año = int(input('Ingrese el año'))\n",
    "if (año % 4 == 0 and año % 100 != 0) or (año % 400 == 0):\n",
    "    print(año, 'es un año bisiesto.')\n",
    "else:\n",
    "    print(año, 'no es un año bisiesto')"
   ]
  },
  {
   "cell_type": "code",
   "execution_count": 33,
   "metadata": {},
   "outputs": [
    {
     "name": "stdout",
     "output_type": "stream",
     "text": [
      "Persona menor de edad\n"
     ]
    }
   ],
   "source": [
    "#Ejercicio_8: Dada una edad, asigna una categoría según las siguientes condiciones: \n",
    "#si la edad es menor de 18, la categoría es \"Menor de edad\"; \n",
    "#si la edad está entre 18 y 64 (incluyendo ambos), la categoría es \"Adulto\"; \n",
    "#de lo contrario, la categoría es \"Adulto mayor\".\n",
    "#PASO A PASO:\n",
    "    #primer el input con el int ( para que me aparezca solo numeros interos)\n",
    "    #segundo tengo que definir las dos variables (menor de edad y adulto)\n",
    "    #todo lo demás entrará en el else y corresponderá a 'adulto mayor'\n",
    "\n",
    "categoria_edad = int(input('¿Cual es tu edad?'))\n",
    "if categoria_edad < 18:\n",
    "    print('Persona menor de edad')\n",
    "elif categoria_edad >= 18 and categoria_edad <= 64:\n",
    "     print('Persona adulta')\n",
    "else:\n",
    "    print('Persona adulta mayor')\n",
    "\n"
   ]
  },
  {
   "cell_type": "markdown",
   "metadata": {},
   "source": [
    "!!!!!FUNCIÓN SORTED() = La función sorted() en Python se utiliza para ordenar secuencias, como listas, tuplas o cadenas, en un nuevo orden ascendente. Devuelve una nueva lista ordenada sin modificar la original."
   ]
  },
  {
   "cell_type": "code",
   "execution_count": 1,
   "metadata": {},
   "outputs": [
    {
     "name": "stdout",
     "output_type": "stream",
     "text": [
      "Los números no forman un triángulo rectángulo\n"
     ]
    }
   ],
   "source": [
    "#Ejercicio_9: Dados tres números, verifica si forman un triángulo rectángulo (si se cumple el teorema de Pitágoras)\n",
    "#PASO A PASO:\n",
    "    #1º: creo tres variables con un input para cada lado\n",
    "    #2º: creo otra variable en forma de lista para ordenar los lados y utilizo la función sorted para garantir el orden de los lados\n",
    "    #3º: aplico el teorema de pitagoras establecendo las condiciones del teorema de Pitagoras ?¿?¿?¿?¿?¿?¿?\n",
    "    #Probé con 3 4 5 \n",
    "lado1 = float(input('Longitud del primer lado:'))\n",
    "lado2 = float(input('Longitud del segundo lado:'))\n",
    "lado3 = float(input('Longitud del tercer lado:'))\n",
    "\n",
    "lados_ordenados = sorted([lado1, lado2, lado3])\n",
    "\n",
    "if lados_ordenados[0]** 2 + lados_ordenados[1]** 2 == lados_ordenados[2]** 2:\n",
    "    print('Los números forman un triángulo rectángulo.')\n",
    "else:\n",
    "    print('Los números no forman un triángulo rectángulo')"
   ]
  },
  {
   "cell_type": "code",
   "execution_count": 43,
   "metadata": {},
   "outputs": [
    {
     "name": "stdout",
     "output_type": "stream",
     "text": [
      "88 la calificación es \"B\"\n"
     ]
    }
   ],
   "source": [
    "#Ejercicio_10: Dada una puntuación, asigna una calificación según las siguientes condiciones: \n",
    "#si la puntuación es mayor o igual a 90, la calificación es \"A\"; \n",
    "#si es mayor o igual a 80, la calificación es \"B\"; \n",
    "#si es mayor o igual a 70, la calificación es \"C\"; \n",
    "#si es mayor o igual a 60, la calificación es \"D\"; \n",
    "#de lo contrario, la calificación es \"F\".\n",
    "        #PREGUNTA: EXISTE UNA MANERA DE NO TENER QUE PONER TANTAS LINEAS?¿?¿?\n",
    "puntuación = int(input('¿Cual es la puntuación?'))\n",
    "if puntuación>= 90:\n",
    "    print(puntuación, 'la calificación es \"A\"')\n",
    "elif puntuación >= 80:\n",
    "    print(puntuación, 'la calificación es \"B\"')\n",
    "elif puntuación >= 70:\n",
    "    print(puntuación, 'la calificación es \"C\"')\n",
    "elif puntuación >= 60:\n",
    "    print(puntuación, 'la calificación es \"D\"')\n",
    "else:\n",
    "    print('La clasificación es \"F\"')"
   ]
  },
  {
   "cell_type": "code",
   "execution_count": 44,
   "metadata": {},
   "outputs": [
    {
     "name": "stdout",
     "output_type": "stream",
     "text": [
      "El IMC es \"Sobrepeso\".\n"
     ]
    }
   ],
   "source": [
    "#Ejercicio_11: Dados el peso (en kg) y la altura (en metros) de una persona, \n",
    "#calcula su IMC y categorízalo según las siguientes condiciones: \n",
    "#si el IMC es menor a 18.5, es \"Bajo peso\"; \n",
    "#si está entre 18.5 y 24.9 (inclusive), es \"Peso normal\"; \n",
    "#si está entre 25 y 29.9 (inclusive), es \"Sobrepeso\"; \n",
    "#de lo contrario, es \"Obesidad\".\n",
    "    #PASO A PASO: \n",
    "#1º: creo dos variables con que tenga float() y pregunto con input();\n",
    "#2º: creo la variable IMC (se calcula dividiendo el peso de una persona en kilogramos por el cuadrado de su altura en metros.)\n",
    "#3º: establezco los parametros de comparación.\n",
    "\n",
    "peso = float(input('¿Cual es tu peso?'))\n",
    "altura = float(input('¿Cual es tu altura?'))\n",
    "IMC = peso / altura **2\n",
    "if IMC < 18.5:\n",
    "    print('El IMC es \"Bajo peso\".')\n",
    "elif IMC >= 18.5 and IMC <= 24.9:\n",
    "    print('El IMC es \"Peso normal\".')\n",
    "elif IMC >= 25 and IMC <= 29.9:\n",
    "    print('El IMC es \"Sobrepeso\".')\n",
    "else:\n",
    "    print('El IMC es \"Obesidad\".')"
   ]
  },
  {
   "cell_type": "code",
   "execution_count": 46,
   "metadata": {},
   "outputs": [
    {
     "name": "stdout",
     "output_type": "stream",
     "text": [
      "El número mayor es: 9.0\n"
     ]
    }
   ],
   "source": [
    "#Ejercicio_12: Dados tres números, encuentra el mayor entre ellos.\n",
    "#PASO A PASO:\n",
    "    #1º: Creo tres variables con float() e input() para poder comparar\n",
    "    #2º: Establezco los parametros de un numero en ralacion a los otros segun las conbinaciones posibles\n",
    "    #3º: Creo una variables dentro del de la sentencia para poder determinar el resultado de las condiciones.\n",
    "    #4º: Imprimo solo al final de todo ya que es el resultado de la comparación \n",
    "numero_1 = float(input('Primer numero'))\n",
    "numero_2 = float(input('Segundo numero'))\n",
    "numero_3 = float(input('Tercero numero'))\n",
    "\n",
    "if numero_1 >= numero_2 and numero_1 >= numero_3:\n",
    "    mayor = numero_1\n",
    "elif numero_2 >= numero_1 and numero_2 >= numero_3:\n",
    "    mayor = numero_2\n",
    "else:\n",
    "    mayor = numero_3\n",
    "print('El número mayor es:', mayor)"
   ]
  },
  {
   "cell_type": "code",
   "execution_count": null,
   "metadata": {},
   "outputs": [],
   "source": [
    "#Ejercicio_13: Dados el día, el mes y el año de una fecha, verifica si la fecha es válida."
   ]
  },
  {
   "cell_type": "markdown",
   "metadata": {},
   "source": [
    "EJERCICIOS WHILE"
   ]
  },
  {
   "cell_type": "code",
   "execution_count": 2,
   "metadata": {},
   "outputs": [
    {
     "name": "stdout",
     "output_type": "stream",
     "text": [
      "La suma de los primeros 10 numeros naturales es: 55\n"
     ]
    }
   ],
   "source": [
    "#Ejercicio_1: Utiliza un bucle while para calcular la suma de los primeros 10 números naturales (1 + 2 + 3 + ... + 10).\n",
    "#PASO A PASO:\n",
    "    #1º: Definir las variables de numero y suma\n",
    "    #2º: Crear el bucle while\n",
    "#DUDA SOBRE LA VARIABLE SUMA Y PORQUE USA EL += ?¿?¿?¿?¿¿?\n",
    "numero = 1\n",
    "suma = 0\n",
    "\n",
    "while numero <= 10:\n",
    "    suma += numero\n",
    "    numero += 1\n",
    "print('La suma de los primeros 10 numeros naturales es:', suma)\n"
   ]
  },
  {
   "cell_type": "code",
   "execution_count": 3,
   "metadata": {},
   "outputs": [
    {
     "name": "stdout",
     "output_type": "stream",
     "text": [
      "La suma de los primeros 10 numeros naturales es: 55\n"
     ]
    }
   ],
   "source": [
    "#Ejercicio_1: Utiliza un bucle while para calcular la suma de los primeros 10 números naturales (1 + 2 + 3 + ... + 10).\n",
    "#PASO A PASO:\n",
    "    #1º: Definir las variables de numero y suma\n",
    "    #2º: Crear el bucle while\n",
    "#DUDA SOBRE LA VARIABLE SUMA Y PORQUE USA EL += ?¿?¿?¿?¿¿?\n",
    "numero = 1\n",
    "suma = 0\n",
    "\n",
    "while numero <= 10:\n",
    "    suma =  suma + numero\n",
    "    numero = numero + 1\n",
    "print('La suma de los primeros 10 numeros naturales es:', suma)\n"
   ]
  },
  {
   "cell_type": "code",
   "execution_count": 2,
   "metadata": {},
   "outputs": [
    {
     "name": "stdout",
     "output_type": "stream",
     "text": [
      "estoy suamando y voy por: 1\n",
      "estoy suamando y voy por: 3\n",
      "estoy suamando y voy por: 6\n",
      "estoy suamando y voy por: 10\n",
      "estoy suamando y voy por: 15\n",
      "estoy suamando y voy por: 21\n",
      "estoy suamando y voy por: 28\n",
      "estoy suamando y voy por: 36\n",
      "estoy suamando y voy por: 45\n",
      "estoy suamando y voy por: 55\n",
      "fin del bucle, la suma total es 55\n"
     ]
    }
   ],
   "source": [
    "#Ejercicio_1: Utiliza un bucle while para calcular la suma de los primeros 10 números naturales (1 + 2 + 3 + ... + 10).\n",
    "#PASO A PASO:\n",
    "    #1º: Definir las variables de numero y suma\n",
    "    #2º: Crear el bucle while\n",
    "#DUDA SOBRE LA VARIABLE SUMA Y PORQUE USA EL += ?¿?¿?¿?¿¿?\n",
    "numero = 1\n",
    "contador = 0\n",
    "\n",
    "while numero <= 10:\n",
    "    contador = contador + numero\n",
    "    print(f\"estoy suamando y voy por: {contador}\")\n",
    "    numero = numero + 1\n",
    "    \n",
    "print(f\"fin del bucle, la suma total es {contador}\")"
   ]
  },
  {
   "cell_type": "code",
   "execution_count": null,
   "metadata": {},
   "outputs": [],
   "source": [
    "#Ejercicio_2: Crea un juego de adivinanza en el que el jugador tiene que adivinar un número secreto \n",
    "#(tendrá que ser entre el 0 y el 10). \n",
    "#Utiliza un bucle while para permitir múltiples intentos hasta que el jugador adivine correctamente.\n"
   ]
  },
  {
   "cell_type": "code",
   "execution_count": 46,
   "metadata": {},
   "outputs": [
    {
     "name": "stdout",
     "output_type": "stream",
     "text": [
      "Lista de letras: ['p', 'y', 't', 'h', 'o', 'n']\n"
     ]
    }
   ],
   "source": [
    "# Definir una lista con una palabra\n",
    "lista_palabras = [\"python\"]\n",
    "\n",
    "# Dividir la palabra en una lista de letras\n",
    "lista_letras = [letra for palabra in lista_palabras for letra in palabra]\n",
    "\n",
    "print(\"Lista de letras:\", lista_letras)\n"
   ]
  },
  {
   "cell_type": "code",
   "execution_count": 7,
   "metadata": {},
   "outputs": [
    {
     "name": "stdout",
     "output_type": "stream",
     "text": [
      "['c', 'o', 'n', 'e', 'j', 'o']\n"
     ]
    }
   ],
   "source": [
    "palabra_secreta = 'conejo'\n",
    "\n",
    "lista_palabra = list(palabra_secreta)\n",
    "print(lista_palabra)\n"
   ]
  },
  {
   "cell_type": "code",
   "execution_count": 1,
   "metadata": {},
   "outputs": [
    {
     "name": "stdout",
     "output_type": "stream",
     "text": [
      "['c', 'o', 'n', 'e', 'j', 'o']\n",
      "¡Enhorabuena has acertado la letra c\n",
      "¡Enhorabuena has acertado la letra o\n",
      "¡Enhorabuena has acertado la letra n\n",
      "¡Enhorabuena has acertado la letra j\n",
      "¡Enhorabuena has acertado la letra o\n",
      "¡Vaya, te has equivocado! Intenta otra vez, te quedan 5 intentos.\n",
      "¡Vaya, te has equivocado! Intenta otra vez, te quedan 4 intentos.\n",
      "¡Vaya, te has equivocado! Intenta otra vez, te quedan 3 intentos.\n",
      "¡Vaya, te has equivocado! Intenta otra vez, te quedan 2 intentos.\n",
      "¡Vaya, te has equivocado! Intenta otra vez, te quedan 1 intentos.\n",
      "¡Vaya, te has equivocado! Intenta otra vez, te quedan 0 intentos.\n",
      "¡Lo siento! Has perdido la partida. la palabra secreta era: conejo.\n"
     ]
    }
   ],
   "source": [
    "#Juego de Adivinar la Palabra Elige una palabra secreta y ocúltala utilizando asteriscos, por ejemplo, \"secreto\" se muestra como \"*******\". \n",
    "#Permite al usuario adivinar letras una por una. \n",
    "#Si la letra adivinada está en la palabra secreta, muestra la palabra con las letras descubiertas y los asteriscos. \n",
    "#Si la letra no está en la palabra secreta, resta una vida al jugador. El juego continúa hasta que el jugador adivine la palabra.\n",
    "\n",
    "palabra_secreta = 'conejo'\n",
    "\n",
    "lista_palabra = list(palabra_secreta)\n",
    "print(lista_palabra)\n",
    "\n",
    "vidas1 = 0\n",
    "vidas_resto1 = 6\n",
    "while vidas1 < 6:\n",
    "    respuesta1 = str(input('Escriba una letra de la palabra secreta'))\n",
    "    if respuesta1 in lista_palabra:\n",
    "        \n",
    "        print(f'¡Enhorabuena has acertado la letra {respuesta1}')\n",
    "    elif respuesta1 not in lista_palabra:\n",
    "        vidas1 += 1\n",
    "        print(f'¡Vaya, te has equivocado! Intenta otra vez, te quedan {vidas_resto1 - vidas1} intentos.')\n",
    "if vidas1 == 6:\n",
    "    print('¡Lo siento! Has perdido la partida. la palabra secreta era: conejo.')"
   ]
  },
  {
   "cell_type": "code",
   "execution_count": 7,
   "metadata": {},
   "outputs": [
    {
     "name": "stdout",
     "output_type": "stream",
     "text": [
      "8\n",
      "¡Vaya, te has equivocado! Intenta otra vez, te quedan 5 intentos.\n",
      "¡Vaya, te has equivocado! Intenta otra vez, te quedan 4 intentos.\n",
      "¡Has adivinado el numero secreto en: 3!\n"
     ]
    }
   ],
   "source": [
    "#Juego de adivinanza utilizando un bucle while\n",
    "#Descripción: Crea un juego de adivinanza en el que el jugador tiene que adivinar un número secreto (tendrá que ser entre el 0 y el 10).\n",
    "#Utiliza un bucle while para permitir múltiples intentos hasta que el jugador adivine correctamente.\n",
    "\n",
    "import random \n",
    "\n",
    "numero_secreto = random.randint(0,10)\n",
    "print('El numero secreto es:', numero_secreto)\n",
    "\n",
    "vidas = 0\n",
    "vidas_resto = 6\n",
    "while vidas < 6:\n",
    "    respuesta = int(input('Adivina el numero secreto entre 0 a 10'))\n",
    "    if respuesta == numero_secreto:\n",
    "        vidas += 1\n",
    "        print(f'¡Has adivinado el numero secreto en: {vidas} intentos!')\n",
    "        break\n",
    "    elif respuesta != numero_secreto:\n",
    "        vidas += 1\n",
    "        print(f'¡Vaya, te has equivocado! Intenta otra vez, te quedan {vidas_resto - vidas} intentos.')\n",
    "if vidas == 6:\n",
    "    print('¡Lo siento! Has perdido la partida. El numero secreto era: 8.')\n",
    "       \n",
    "#### poner el if al final fuera del bucle para que se pare.\n",
    "        \n",
    "        \n"
   ]
  },
  {
   "cell_type": "code",
   "execution_count": 11,
   "metadata": {},
   "outputs": [
    {
     "name": "stdout",
     "output_type": "stream",
     "text": [
      "¡Bienvenido al juego de adivinar la palabra!\n",
      "Tienes 5 vidas para adivinar la palabra.\n",
      "\n",
      "Vidas restantes: 5\n",
      "Palabra: *******\n",
      "¡Incorrecto! La letra no está en la palabra.\n",
      "\n",
      "Vidas restantes: 4\n",
      "Palabra: *******\n",
      "¡Incorrecto! La letra no está en la palabra.\n",
      "\n",
      "Vidas restantes: 3\n",
      "Palabra: *******\n",
      "¡Correcto! La letra está en la palabra.\n",
      "\n",
      "Vidas restantes: 3\n",
      "Palabra: *e**e**\n",
      "¡Incorrecto! La letra no está en la palabra.\n",
      "\n",
      "Vidas restantes: 2\n",
      "Palabra: *e**e**\n",
      "¡Incorrecto! La letra no está en la palabra.\n",
      "\n",
      "Vidas restantes: 1\n",
      "Palabra: *e**e**\n",
      "¡Incorrecto! La letra no está en la palabra.\n",
      "¡Oh no! Te has quedado sin vidas. La palabra secreta era: secreto\n"
     ]
    }
   ],
   "source": [
    "def ocultar_palabra(palabra):\n",
    "    return '*' * len(palabra)\n",
    "\n",
    "def mostrar_palabra(palabra, letras_adivinadas):\n",
    "    resultado = ''\n",
    "    for letra in palabra:\n",
    "        if letra in letras_adivinadas:\n",
    "            resultado += letra\n",
    "        else:\n",
    "            resultado += '*'\n",
    "    return resultado\n",
    "\n",
    "def main():\n",
    "    palabra_secreta = \"secreto\"\n",
    "    vidas = 5\n",
    "    letras_adivinadas = set()\n",
    "\n",
    "    palabra_oculta = ocultar_palabra(palabra_secreta)\n",
    "\n",
    "    print(\"¡Bienvenido al juego de adivinar la palabra!\")\n",
    "    print(\"Tienes 5 vidas para adivinar la palabra.\")\n",
    "\n",
    "    while vidas > 0:\n",
    "        print(\"\\nVidas restantes:\", vidas)\n",
    "        print(\"Palabra:\", palabra_oculta)\n",
    "\n",
    "        if palabra_oculta == palabra_secreta:\n",
    "            print(\"¡Felicidades! ¡Has adivinado la palabra!\")\n",
    "            break\n",
    "\n",
    "        letra = input(\"Ingresa una letra: \")\n",
    "\n",
    "        if letra in letras_adivinadas:\n",
    "            print(\"Ya has adivinado esa letra. Intenta con otra.\")\n",
    "            continue\n",
    "\n",
    "        letras_adivinadas.add(letra)\n",
    "\n",
    "        if letra in palabra_secreta:\n",
    "            print(\"¡Correcto! La letra está en la palabra.\")\n",
    "            palabra_oculta = mostrar_palabra(palabra_secreta, letras_adivinadas)\n",
    "        else:\n",
    "            print(\"¡Incorrecto! La letra no está en la palabra.\")\n",
    "            vidas -= 1\n",
    "\n",
    "    if vidas == 0:\n",
    "        print(\"¡Oh no! Te has quedado sin vidas. La palabra secreta era:\", palabra_secreta)\n",
    "\n",
    "if __name__ == \"__main__\":\n",
    "    main()\n"
   ]
  }
 ],
 "metadata": {
  "kernelspec": {
   "display_name": "base",
   "language": "python",
   "name": "python3"
  },
  "language_info": {
   "codemirror_mode": {
    "name": "ipython",
    "version": 3
   },
   "file_extension": ".py",
   "mimetype": "text/x-python",
   "name": "python",
   "nbconvert_exporter": "python",
   "pygments_lexer": "ipython3",
   "version": "3.11.5"
  }
 },
 "nbformat": 4,
 "nbformat_minor": 2
}
