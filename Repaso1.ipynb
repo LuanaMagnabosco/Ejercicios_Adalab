{
 "cells": [
  {
   "cell_type": "code",
   "execution_count": null,
   "metadata": {},
   "outputs": [],
   "source": [
    "#Crear una lista: Crea una lista con cinco colores diferentes.\n",
    "#Acceder a elementos: Accede al tercer elemento de la lista de colores.\n",
    "∑4 y 9 "
   ]
  },
  {
   "cell_type": "code",
   "execution_count": 10,
   "metadata": {},
   "outputs": [
    {
     "name": "stdout",
     "output_type": "stream",
     "text": [
      "['azul', 'amarillo', 'verde', 'rosa', 'lila']\n"
     ]
    }
   ],
   "source": [
    "#Crear una lista: Crea una lista con cinco colores diferentes.\n",
    "colores = ['azul', 'amarillo', 'verde', 'rosa', 'lila']\n",
    "print(colores)"
   ]
  },
  {
   "cell_type": "code",
   "execution_count": 12,
   "metadata": {},
   "outputs": [
    {
     "data": {
      "text/plain": [
       "'verde'"
      ]
     },
     "execution_count": 12,
     "metadata": {},
     "output_type": "execute_result"
    }
   ],
   "source": [
    "#acceder al 3 elemento \n",
    "colores[2]\n"
   ]
  },
  {
   "cell_type": "code",
   "execution_count": 11,
   "metadata": {},
   "outputs": [
    {
     "data": {
      "text/plain": [
       "['azul', 'amarillo', 'verde', 'rosa', 'lila', 'negro', 'blanco']"
      ]
     },
     "execution_count": 11,
     "metadata": {},
     "output_type": "execute_result"
    }
   ],
   "source": [
    "nueva_lista = ['negro', 'blanco']\n",
    "colores + nueva_lista\n"
   ]
  },
  {
   "cell_type": "code",
   "execution_count": null,
   "metadata": {},
   "outputs": [],
   "source": [
    "#Concatenar listas: Concatena las dos sublistas en una sola lista de frutas.\n",
    "colo"
   ]
  },
  {
   "cell_type": "code",
   "execution_count": null,
   "metadata": {},
   "outputs": [],
   "source": [
    "#y que no quiera seguir jugando \n"
   ]
  },
  {
   "cell_type": "markdown",
   "metadata": {},
   "source": [
    "LISTAS\n",
    "1. Crear una lista: Crea una lista con cinco colores diferentes.\n",
    "2. Acceder a elementos: Accede al tercer elemento de la lista de colores.\n",
    "3. Modificar elementos: Cambia el segundo color de la lista por otro de tu elección.\n",
    "4. Agregar elementos: Agrega dos colores nuevos a la lista.\n",
    "5. Eliminar elementos: Elimina el cuarto color de la lista.\n",
    "6. Longitud de la lista: Encuentra la longitud de la lista de colores.\n",
    "7. Ordenar la lista: Ordena la lista de colores en orden alfabético.\n",
    "8. Listas anidadas: Crea una lista de dos sublistas, cada una con tres nombres de frutas.\n",
    "9. Concatenar listas: Concatena las dos sublistas en una sola lista de frutas.\n",
    "10. Repetir elementos: Repite la lista de frutas tres veces para obtener una lista más larga.\n",
    "11. Acceder a la primera lista de frutas: Crea una variable llamada primera_lista y asigna la primera lista de frutas a esta variable.\n",
    "12. Acceder a la segunda lista de frutas: Crea una variable llamada segunda_lista y asigna la segunda lista de frutas a esta variable.\n",
    "13. Acceder a la primera fruta de la primera lista: Crea una variable llamada primera_fruta y asigna la primera fruta de la primera lista de frutas a esta variable.\n",
    "14. Acceder a la última fruta de la segunda lista: Crea una variable llamada ultima_fruta y asigna la última fruta de la segunda lista de frutas a esta variable.\n",
    "15. Acceder a la segunda fruta de la primera lista: Crea una variable llamada segunda_fruta y asigna la segunda fruta de la primera lista de frutas a esta variable.\n",
    "16. Acceder a la última fruta de la primera lista: Crea una variable llamada ultima_fruta_primera_lista y asigna la última fruta de la primera lista de frutas a esta variable.\n",
    "17. Acceder a la longitud de la segunda lista de frutas: Crea una variable llamada longitud_segunda_lista y asigna la longitud (número de elementos) de la segunda lista de frutas a esta variable.\n",
    "18. Acceder a una porción de la segunda lista (slicing): Crea una variable llamada porcion_segunda_lista y asigna los dos primeros elementos de la segunda lista de frutas a esta variable utilizando el slicing.\n",
    "19. Cambiar la segunda fruta de la segunda lista: Cambia la segunda fruta de la segunda lista de frutas a \"ciruela\".\n",
    "20. Agregar una nueva fruta a la primera lista: Agrega una nueva fruta, \"kiwi\", a la primera lista de frutas."
   ]
  },
  {
   "cell_type": "markdown",
   "metadata": {},
   "source": [
    "TUPLAS\n",
    "1. Crear una tupla: Crea una tupla llamada mi_tupla con algunos elementos de tu elección.\n",
    "2. Acceder al primer elemento: Accede al primer elemento de mi_tupla y guárdalo en una variable llamada primer_elemento.\n",
    "3. Acceder al último elemento: Accede al último elemento de mi_tupla y guárdalo en una variable llamada ultimo_elemento.\n",
    "4. Acceder a un rango de elementos: Utilizando el slicing, crea una nueva tupla llamada sub_tupla que contenga los elementos desde el segundo hasta el cuarto de mi_tupla.\n",
    "5. Concatenar dos tuplas: Crea otra tupla llamada otra_tupla y concaténala con mi_tupla para formar una nueva tupla llamada tupla_concatenada.\n",
    "6. Encontrar la longitud: Encuentra la longitud de tupla_concatenada y guárdala en una variable llamada longitud.\n",
    "7. Buscar un elemento: Verifica si un elemento específico está presente en mi_tupla, por ejemplo, \"manzana\".\n",
    "8. Contar elementos: Cuenta cuántas veces aparece un elemento específico en mi_tupla, por ejemplo, cuántas veces aparece \"pera\".\n",
    "9. Desempaquetar una tupla: Si tienes una tupla de nombres (nombre, apellido), desempaqueta los valores en dos variables separadas.\n",
    "10. Convertir una lista en tupla: Crea una lista de números y conviértela en una tupla llamada tupla_desde_lista."
   ]
  },
  {
   "cell_type": "code",
   "execution_count": 1,
   "metadata": {},
   "outputs": [
    {
     "name": "stdout",
     "output_type": "stream",
     "text": [
      "['manzana', 'pera', 'banana', 'uva', 'kiwi']\n",
      "['manzana', 'durazno', 'banana', 'uva', 'kiwi']\n",
      "El tercer elemento de la lsta es: banana\n"
     ]
    }
   ],
   "source": [
    "#1. Dada la siguiente lista:\n",
    "#frutas = ['manzana', 'pera', 'banana', 'uva', 'kiwi'], realiza lo siguiente: \n",
    "#a) Reemplaza el segundo elemento con 'durazno'.\n",
    "#b) Agrega 'naranja' al final de la lista. \n",
    "#c) Extrae y muestra por pantalla el tercer elemento de la lista.\n",
    "\n",
    "frutas = ['manzana', 'pera', 'banana', 'uva', 'kiwi']\n",
    "print(frutas)\n",
    "frutas[1] = 'durazno'\n",
    "print(frutas)\n",
    "tercer_elemento = frutas[2]\n",
    "print('El tercer elemento de la lsta es:', tercer_elemento)"
   ]
  },
  {
   "cell_type": "code",
   "execution_count": 2,
   "metadata": {},
   "outputs": [
    {
     "name": "stdout",
     "output_type": "stream",
     "text": [
      "[10, 25, 15, 30, 20]\n"
     ]
    }
   ],
   "source": [
    "#2. Crea una lista llamada numeros que contenga los siguientes valores: 10, 25, 15, 30, 20.\n",
    "numeros = [10, 25, 15, 30, 20]\n",
    "print(numeros)\n"
   ]
  },
  {
   "cell_type": "code",
   "execution_count": 3,
   "metadata": {},
   "outputs": [
    {
     "name": "stdout",
     "output_type": "stream",
     "text": [
      "[35, 10, 25, 15, 30, 20]\n"
     ]
    }
   ],
   "source": [
    "#3. Agrega el valor 35 al incio de la lista numeros.\n",
    "numeros1 = numeros.insert(0, 35)\n",
    "print(numeros)"
   ]
  },
  {
   "cell_type": "code",
   "execution_count": 4,
   "metadata": {},
   "outputs": [
    {
     "name": "stdout",
     "output_type": "stream",
     "text": [
      "[10, 15, 20, 25, 30, 35]\n"
     ]
    }
   ],
   "source": [
    "#4. Ordena la lista numeros en orden ascendente.\n",
    "numeros.sort()\n",
    "print(numeros)"
   ]
  },
  {
   "cell_type": "code",
   "execution_count": 5,
   "metadata": {},
   "outputs": [
    {
     "name": "stdout",
     "output_type": "stream",
     "text": [
      "None\n"
     ]
    }
   ],
   "source": [
    "numeros_001 = [10, 25, 15, 30, 20]\n",
    "numeros_002 = [45, 22, 19, 38, 29]\n",
    "numeros_003 = numeros_001.append(numeros_002)\n",
    "print(numeros_003)"
   ]
  },
  {
   "cell_type": "code",
   "execution_count": null,
   "metadata": {},
   "outputs": [],
   "source": [
    "#5. Dada la siguiente lista numeros2 = [45, 22, 19, 38, 29]. \n",
    "#Crea una nueva lista llamada numeros3 donde tengamos la unión de los todos los elementos de las dos listas (numeros y numeros2) de tal forma que el resultado final sea:\n",
    "numeros1 = [10, 25, 15, 30, 20]\n",
    "numeros2 = [45, 22, 19, 38, 29]\n",
    "numeros3 = numeros1.append(numeros2)\n",
    "print(numeros3)"
   ]
  }
 ],
 "metadata": {
  "kernelspec": {
   "display_name": "base",
   "language": "python",
   "name": "python3"
  },
  "language_info": {
   "codemirror_mode": {
    "name": "ipython",
    "version": 3
   },
   "file_extension": ".py",
   "mimetype": "text/x-python",
   "name": "python",
   "nbconvert_exporter": "python",
   "pygments_lexer": "ipython3",
   "version": "3.12.2"
  }
 },
 "nbformat": 4,
 "nbformat_minor": 2
}
